{
  "nbformat": 4,
  "nbformat_minor": 0,
  "metadata": {
    "colab": {
      "provenance": []
    },
    "kernelspec": {
      "name": "python3",
      "display_name": "Python 3"
    },
    "language_info": {
      "name": "python"
    }
  },
  "cells": [
    {
      "cell_type": "markdown",
      "source": [
        "**Задание 1.** **Fizz Buzz**\n",
        "\n",
        "Дано: Число, как целочисленное (int).\n",
        "\n",
        "Задание:\n",
        "\n",
        "\"Fizz buzz\" - это игра со словами, с помощью которой мы будем учить наших роботов делению. Давайте обучим компьютер.\n",
        "\n",
        "Вы должны написать программу, которая принимает положительное целое число и возвращает сл. значения.\n",
        "\n",
        "1) \"Fizz Buzz\", если число делится на 3 и 5;\n",
        "\n",
        "2) \"Fizz\", если число делится на 3;\n",
        "\n",
        "3) \"Buzz\", если число делится на 5;\n",
        "\n",
        "4) Число, как строку для остальных случаев."
      ],
      "metadata": {
        "id": "qR0Ve7LnvrvJ"
      }
    },
    {
      "cell_type": "code",
      "execution_count": null,
      "metadata": {
        "id": "xuxxyDVFfVdF",
        "colab": {
          "base_uri": "https://localhost:8080/"
        },
        "outputId": "ebd8b578-960b-4d40-be61-837a1ad2387e"
      },
      "outputs": [
        {
          "output_type": "stream",
          "name": "stdout",
          "text": [
            "Введите положительное число: 17\n",
            "17\n"
          ]
        }
      ],
      "source": [
        "number = int(input('Введите положительное число: '))\n",
        "if number <= 0:\n",
        "  print('Введите, пожалуйста, положительное число')\n",
        "\n",
        "elif (number % 3 == 0) and (number % 5 == 0):\n",
        "  print('Fizz Buzz')\n",
        "\n",
        "elif number % 3 == 0:\n",
        "  print('Fizz')\n",
        "\n",
        "elif number % 5 == 0:\n",
        "  print('Buzz')\n",
        "\n",
        "else:\n",
        "  print(str(number))"
      ]
    },
    {
      "cell_type": "markdown",
      "source": [
        "**Задание 2. Оценка числа**\n",
        "\n",
        "Дано: Число x.\n",
        "\n",
        "Задание: нужно написать программу, которая дает оценку заданному значению, используя следующие правила.\n",
        "\n",
        "1) если x нечетное, то это \"Плохо\"\n",
        "\n",
        "2) если x = [2, 5] и четное, то это \"Неплохо\"\n",
        "\n",
        "3) если x = [6, 20] и четное, то это \"Так себе\"\n",
        "\n",
        "4) если x > 20 и четное, то это \"Отлично\"\n"
      ],
      "metadata": {
        "id": "sW90Pfiov93S"
      }
    },
    {
      "cell_type": "code",
      "source": [
        "number = int(input())\n",
        "\n",
        "if number % 2 != 0:\n",
        "  print('Плохо')\n",
        "\n",
        "if (number % 2 == 0) and number in range(2,6):\n",
        "  print('Неплохо')\n",
        "\n",
        "if (number % 2 == 0) and number in range(6,21):\n",
        "  print('Так себе')\n",
        "\n",
        "if (number % 2 == 0) and number > 20:\n",
        "  print('Отлично')"
      ],
      "metadata": {
        "colab": {
          "base_uri": "https://localhost:8080/"
        },
        "id": "TKJXAymbwEbv",
        "outputId": "74ee26d8-23dd-4eac-c0d9-ea581996f5b9"
      },
      "execution_count": null,
      "outputs": [
        {
          "output_type": "stream",
          "name": "stdout",
          "text": [
            "6\n",
            "Так себе\n"
          ]
        }
      ]
    },
    {
      "cell_type": "markdown",
      "source": [
        "**Задание 3. Последовательность**\n",
        "\n",
        "Дано: Число N = [1-9].\n",
        "\n",
        "Задание: нужно написать программу, которая выведет последовательность 123..N"
      ],
      "metadata": {
        "id": "XmelnfVUwE3P"
      }
    },
    {
      "cell_type": "code",
      "source": [
        "number = int(input(\"Введите число от 1 до 9: \"))\n",
        "\n",
        "if number in range(1,10):\n",
        "  order = list(range(1, number+1))\n",
        "  print(order)\n",
        "else:\n",
        "  print('Пожалуйста, введите число от 1 до 9')\n"
      ],
      "metadata": {
        "colab": {
          "base_uri": "https://localhost:8080/"
        },
        "id": "1giDsgnRwVhn",
        "outputId": "ede485df-c7b2-4a46-eee1-bf422bbfb620"
      },
      "execution_count": null,
      "outputs": [
        {
          "output_type": "stream",
          "name": "stdout",
          "text": [
            "Введите число от 1 до 9: 5\n",
            "[1, 2, 3, 4, 5]\n"
          ]
        }
      ]
    },
    {
      "cell_type": "markdown",
      "source": [
        "**Задание 4. Секретное сообщение**\n",
        "\n",
        "Дано: Дан кусок текста (str).\n",
        "\n",
        "Задание: Соберите все заглавные буквы в одно слово в том порядке как они встречаются в куске текста. Подсказка: посмотрите внимательно на методы класса str."
      ],
      "metadata": {
        "id": "MMSprmxPwV3T"
      }
    },
    {
      "cell_type": "code",
      "source": [
        "text = str(input())\n",
        "n_text = ''.join(ch for ch in text if ch.isupper())\n",
        "print(n_text)"
      ],
      "metadata": {
        "colab": {
          "base_uri": "https://localhost:8080/"
        },
        "id": "o8uTi-69wegt",
        "outputId": "01ea015d-3bd6-4074-ff0b-73e4181cc4be"
      },
      "execution_count": null,
      "outputs": [
        {
          "output_type": "stream",
          "name": "stdout",
          "text": [
            "Где умный человек прячет лист? В лесу. Но что если леса нет? ... Он выращивает лес и прячет его там.\n",
            "ГВНО\n"
          ]
        }
      ]
    },
    {
      "cell_type": "markdown",
      "source": [
        "**Задание 5. Три слова**\n",
        "\n",
        "Дано: Строка со словами (str).\n",
        "\n",
        "Задание: напишите программу, которая проверяет есть ли в исходной строке три слова подряд. Для примера, в строке \"start 5 one two three 7 end\" есть три слова подряд."
      ],
      "metadata": {
        "id": "XsiBigAAwe_x"
      }
    },
    {
      "cell_type": "code",
      "source": [
        "def search_three(text):\n",
        "    count = 0\n",
        "    for w in text.split():\n",
        "        if w.isalpha():\n",
        "            count += 1\n",
        "        else:\n",
        "            count = 0\n",
        "        if count == 3:\n",
        "            return True\n",
        "    return False\n",
        "\n",
        "n_text = input()\n",
        "print(search_three(n_text))"
      ],
      "metadata": {
        "colab": {
          "base_uri": "https://localhost:8080/"
        },
        "id": "aWi3d4nRwllP",
        "outputId": "94fbb773-8e61-4389-84fe-9ec3c43641f7"
      },
      "execution_count": null,
      "outputs": [
        {
          "output_type": "stream",
          "name": "stdout",
          "text": [
            "start 5 one two three 7 end\n",
            "True\n"
          ]
        }
      ]
    }
  ]
}