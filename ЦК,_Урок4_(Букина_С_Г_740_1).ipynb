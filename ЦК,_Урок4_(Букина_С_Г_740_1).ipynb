{
  "nbformat": 4,
  "nbformat_minor": 0,
  "metadata": {
    "colab": {
      "provenance": []
    },
    "kernelspec": {
      "name": "python3",
      "display_name": "Python 3"
    },
    "language_info": {
      "name": "python"
    }
  },
  "cells": [
    {
      "cell_type": "markdown",
      "source": [
        "**Задание 1.**\n",
        "\n",
        "Дано: 3 случайных числа.\n",
        "\n",
        "Задание: написать программу, которая будет вычислять среднее значение этих чисел."
      ],
      "metadata": {
        "id": "HV5NhyBfGEKg"
      }
    },
    {
      "cell_type": "code",
      "execution_count": null,
      "metadata": {
        "id": "9Pw8jND4F9qk"
      },
      "outputs": [],
      "source": []
    }
  ]
}