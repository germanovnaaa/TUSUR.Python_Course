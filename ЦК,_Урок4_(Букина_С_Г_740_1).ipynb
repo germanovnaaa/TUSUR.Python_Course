{
  "nbformat": 4,
  "nbformat_minor": 0,
  "metadata": {
    "colab": {
      "provenance": []
    },
    "kernelspec": {
      "name": "python3",
      "display_name": "Python 3"
    },
    "language_info": {
      "name": "python"
    }
  },
  "cells": [
    {
      "cell_type": "markdown",
      "source": [
        "**Задание 1.**\n",
        "\n",
        "Дано: 3 случайных числа.\n",
        "\n",
        "Задание: написать программу, которая будет вычислять среднее значение этих чисел."
      ],
      "metadata": {
        "id": "HV5NhyBfGEKg"
      }
    },
    {
      "cell_type": "code",
      "execution_count": 16,
      "metadata": {
        "colab": {
          "base_uri": "https://localhost:8080/"
        },
        "id": "9Pw8jND4F9qk",
        "outputId": "9d1a5970-7829-46a1-c6c5-527ffac93c93"
      },
      "outputs": [
        {
          "output_type": "stream",
          "name": "stdout",
          "text": [
            "21\n",
            "97\n",
            "32\n",
            "Среднее значение: 50.0\n"
          ]
        }
      ],
      "source": [
        "from random import randint\n",
        "\n",
        "number_quantity = 3\n",
        "summ = 0\n",
        "for n in range(0, number_quantity):\n",
        "  num = randint(0, 100)\n",
        "  print(num)\n",
        "  summ += num\n",
        "\n",
        "average = summ / number_quantity\n",
        "print('Среднее значение:', average)"
      ]
    },
    {
      "cell_type": "markdown",
      "source": [
        "**Задание 2.**\n",
        "\n",
        "Дано: 2 случайных числа.\n",
        "\n",
        "Задание: написать программу, которая будет печать результат целочисленного деления этих чисел, а также остаток от деления первого от второго."
      ],
      "metadata": {
        "id": "DdgJ6X_sNGXJ"
      }
    },
    {
      "cell_type": "code",
      "source": [
        "from random import randint\n",
        "\n",
        "number1 = randint(0, 100)\n",
        "number2 = randint(0, 100)\n",
        "print(f'Число 1: {number1}. Число 2: {number2}')\n",
        "\n",
        "print('Результат целочисленного деления:', number1 // number2)\n",
        "print('Остаток от деления:', number1 % number2)"
      ],
      "metadata": {
        "colab": {
          "base_uri": "https://localhost:8080/"
        },
        "id": "eRKFcJk-NP1m",
        "outputId": "190b9beb-8625-4e5f-9400-142621168b47"
      },
      "execution_count": 20,
      "outputs": [
        {
          "output_type": "stream",
          "name": "stdout",
          "text": [
            "Число 1: 30. Число 2: 21\n",
            "Результат целочисленного деления: 1\n",
            "Остаток от деления: 9\n"
          ]
        }
      ]
    },
    {
      "cell_type": "markdown",
      "source": [
        "**Задание 3.**\n",
        "\n",
        "Дано: число с плавающей точкой.\n",
        "\n",
        "Задание: написать программу, которая будет округлять заданное число:\n",
        "\n",
        "1) 2х знаков после запятой; \n",
        "\n",
        "2) до целого; \n",
        "\n",
        "3) дополнять слева столько нулей, сколько не хватает числу до 11 знаков."
      ],
      "metadata": {
        "id": "fYSDyKzBOwkO"
      }
    },
    {
      "cell_type": "code",
      "source": [
        "number = float(input())\n",
        "print('До 2х знаков:', round(number, 2))\n",
        "print('До целого:', round(number))\n",
        "print(f'До 11-значного: {number:011}')"
      ],
      "metadata": {
        "colab": {
          "base_uri": "https://localhost:8080/"
        },
        "id": "FoAVCR67O5-0",
        "outputId": "08d23994-085e-4447-eddf-059347e6b621"
      },
      "execution_count": 25,
      "outputs": [
        {
          "output_type": "stream",
          "name": "stdout",
          "text": [
            "14.721\n",
            "До 2х знаков: 14.72\n",
            "До целого: 15\n",
            "До 11-значного: 0000014.721\n"
          ]
        }
      ]
    }
  ]
}