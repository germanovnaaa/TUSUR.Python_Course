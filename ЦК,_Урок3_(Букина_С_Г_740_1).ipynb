{
  "nbformat": 4,
  "nbformat_minor": 0,
  "metadata": {
    "colab": {
      "provenance": []
    },
    "kernelspec": {
      "name": "python3",
      "display_name": "Python 3"
    },
    "language_info": {
      "name": "python"
    }
  },
  "cells": [
    {
      "cell_type": "markdown",
      "source": [
        "**Задание 1.** \n",
        "\n",
        "Дано: имя и фамилия.\n",
        "\n",
        "Задание: написать программу, которая будет приветствовать нового человека в мире Python. Текст приветсвия: Hello NAME SURNAME! You just delved into Python. Great start!"
      ],
      "metadata": {
        "id": "a93rGFMB22qM"
      }
    },
    {
      "cell_type": "code",
      "source": [
        "name = str(input())\n",
        "lastname = str(input())\n",
        "print(f\"Hello {name} {lastname}! You just delved into Python. Great start!\")"
      ],
      "metadata": {
        "colab": {
          "base_uri": "https://localhost:8080/"
        },
        "id": "f2X1dQBY3JSq",
        "outputId": "59ad2bb9-f2c8-4397-9f1d-ff0c6efd21f1"
      },
      "execution_count": null,
      "outputs": [
        {
          "output_type": "stream",
          "name": "stdout",
          "text": [
            "Sofia\n",
            "Bukina\n",
            "Hello Sofia Bukina! You just delved into Python. Great start!\n"
          ]
        }
      ]
    },
    {
      "cell_type": "markdown",
      "source": [
        "**Задание 2.**\n",
        "\n",
        "Дано: маркер (символ) и толщина фигуры.\n",
        "\n",
        "Задание: написать программу, которая будет отображать заданную фигуру."
      ],
      "metadata": {
        "id": "aVgZdlax5MkS"
      }
    },
    {
      "cell_type": "code",
      "source": [
        "thickness = 4\n",
        "c = 'П'\n",
        "\n",
        "for i in range((thickness+2)//2):\n",
        "    print((c*thickness*5).center(thickness*6))    \n",
        "\n",
        "for i in range(thickness+6):\n",
        "    print((c*thickness).center(thickness*2) + (c*thickness).center(thickness*6))"
      ],
      "metadata": {
        "colab": {
          "base_uri": "https://localhost:8080/"
        },
        "id": "YeO4-m_g5bgP",
        "outputId": "b5aee8a2-37d7-4523-ff6c-963a581e51c2"
      },
      "execution_count": null,
      "outputs": [
        {
          "output_type": "stream",
          "name": "stdout",
          "text": [
            "  ПППППППППППППППППППП  \n",
            "  ПППППППППППППППППППП  \n",
            "  ПППППППППППППППППППП  \n",
            "  ПППП            ПППП          \n",
            "  ПППП            ПППП          \n",
            "  ПППП            ПППП          \n",
            "  ПППП            ПППП          \n",
            "  ПППП            ПППП          \n",
            "  ПППП            ПППП          \n",
            "  ПППП            ПППП          \n",
            "  ПППП            ПППП          \n",
            "  ПППП            ПППП          \n",
            "  ПППП            ПППП          \n"
          ]
        }
      ]
    },
    {
      "cell_type": "markdown",
      "source": [
        "**Задание 3. **\n",
        "\n",
        "Дано: текст любой длины.\n",
        "\n",
        "Задание: написать программу, которая выведет заголовок, используя заданный текст. Подсказка используйте метод title."
      ],
      "metadata": {
        "id": "UIogu2PO7JkC"
      }
    },
    {
      "cell_type": "code",
      "source": [
        "text = input()\n",
        "print(text.title())"
      ],
      "metadata": {
        "colab": {
          "base_uri": "https://localhost:8080/"
        },
        "id": "sjzmgtG67Ppw",
        "outputId": "a7b21ee0-bb5d-44f8-ca4c-d84c0c952baa"
      },
      "execution_count": null,
      "outputs": [
        {
          "output_type": "stream",
          "name": "stdout",
          "text": [
            "Падающий цветок вернулся вдруг на ветку, оказалось - бабочка!\n",
            "Падающий Цветок Вернулся Вдруг На Ветку, Оказалось - Бабочка!\n"
          ]
        }
      ]
    },
    {
      "cell_type": "markdown",
      "source": [
        "**Задание 4.**\n",
        "\n",
        "Дано: денежная сумма (amount > 0).\n",
        "\n",
        "Задание: написать программу, которая распечатает число в принятом денежном формате XXX,XXX.XX."
      ],
      "metadata": {
        "id": "s8nnwVaD-LnX"
      }
    },
    {
      "cell_type": "code",
      "source": [
        "money = float(input())\n",
        "print('{:,.2f}'.format(money))"
      ],
      "metadata": {
        "colab": {
          "base_uri": "https://localhost:8080/"
        },
        "id": "fdSxYo5y9yzx",
        "outputId": "6a2d3aae-4e1e-4311-dd74-aef33b1384ff"
      },
      "execution_count": null,
      "outputs": [
        {
          "output_type": "stream",
          "name": "stdout",
          "text": [
            "123560.87\n",
            "123,560.87\n"
          ]
        }
      ]
    },
    {
      "cell_type": "markdown",
      "source": [
        "**Задание 5.**\n",
        "\n",
        "Дизайнер составил шаблон домашних ковриков. Для массового выпуска ковриков ему нужно уметь быстро составлять макет произвольного размера. Известно, что длина коврика всегда больше в 3 раза чем его ширина (W = 3 * H).\n",
        "\n",
        "Дано: ширина коврика.\n",
        "\n",
        "Задание: написать программу, которая будет составлять макет коврика для его дальнейшего производства."
      ],
      "metadata": {
        "id": "o03vWjDzAOX2"
      }
    },
    {
      "cell_type": "code",
      "source": [
        "height = int(input())\n",
        "width = height * 3\n",
        "\n",
        "for stick_count in range(1, height, 2):\n",
        "    print(('.|.' * stick_count).center(width, '_'))\n",
        "\n",
        "for stick_count in range(height-2, 0, -2):\n",
        "    print(('.|.' * stick_count).center(width, '_'))"
      ],
      "metadata": {
        "colab": {
          "base_uri": "https://localhost:8080/"
        },
        "id": "hB8iTdFyAbCf",
        "outputId": "5b8dfc41-5487-4c7f-c21e-0ce31831d568"
      },
      "execution_count": null,
      "outputs": [
        {
          "output_type": "stream",
          "name": "stdout",
          "text": [
            "11\n",
            "_______________.|._______________\n",
            "____________.|..|..|.____________\n",
            "_________.|..|..|..|..|._________\n",
            "______.|..|..|..|..|..|..|.______\n",
            "___.|..|..|..|..|..|..|..|..|.___\n",
            "___.|..|..|..|..|..|..|..|..|.___\n",
            "______.|..|..|..|..|..|..|.______\n",
            "_________.|..|..|..|..|._________\n",
            "____________.|..|..|.____________\n",
            "_______________.|._______________\n"
          ]
        }
      ]
    }
  ]
}